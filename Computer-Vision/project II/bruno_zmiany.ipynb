{
  "cells": [
    {
      "cell_type": "markdown",
      "metadata": {
        "id": "_67zbgK5DpAU"
      },
      "source": [
        "Make sure you have the clips in data folder. They should be called:\n",
        "- `1.MOV`\n",
        "- `2.MOV`\n",
        "- `3.MOV`\n",
        "- `MEDIUM_1.MOV`\n",
        "- `MEDIUM_2.MOV`\n",
        "- `MEDIUM_3.MOV`\n",
        "- `HARD_1.MOV`\n",
        "- `HARD_2.MOV`\n",
        "- `HARD_3.MOV`"
      ]
    },
    {
      "cell_type": "code",
      "execution_count": 2,
      "metadata": {
        "id": "lJzVNykmy7YR"
      },
      "outputs": [],
      "source": [
        "import cv2\n",
        "import numpy as np\n",
        "\n",
        "from PIL import Image"
      ]
    },
    {
      "cell_type": "code",
      "execution_count": 3,
      "metadata": {
        "id": "up80FfU1zW93"
      },
      "outputs": [],
      "source": [
        "clips = [\n",
        "    '1.MOV',\n",
        "    '2.MOV',\n",
        "    '3.MOV',\n",
        "    'MEDIUM_1.MOV',\n",
        "    'MEDIUM_2.MOV',\n",
        "    'MEDIUM_3.MOV',\n",
        "    'HARD_1.MOV',\n",
        "    'HARD_2.MOV',\n",
        "    'HARD_3.MOV',\n",
        "]\n",
        "\n",
        "clips = [f'data/{clip}' for clip in clips]"
      ]
    },
    {
      "cell_type": "code",
      "execution_count": 4,
      "metadata": {
        "id": "-0zChpKrDpAn"
      },
      "outputs": [],
      "source": [
        "def imshow(a):\n",
        "    a = a.clip(0, 255).astype(\"uint8\")\n",
        "    if a.ndim == 3:\n",
        "        if a.shape[2] == 4:\n",
        "            a = cv2.cvtColor(a, cv2.COLOR_BGRA2RGBA)\n",
        "        else:\n",
        "            a = cv2.cvtColor(a, cv2.COLOR_BGR2RGB)\n",
        "    display(Image.fromarray(a))"
      ]
    },
    {
      "cell_type": "code",
      "execution_count": 5,
      "metadata": {
        "id": "gp2P_C7NDpAp"
      },
      "outputs": [],
      "source": [
        "def load_video(path):\n",
        "    cap = cv2.VideoCapture(path)\n",
        "    if cap.isOpened():\n",
        "        print('Opened the file successfully.')\n",
        "\n",
        "    print(f\"File name: {path}\")\n",
        "    # Height and width of the video\n",
        "    height = cap.get(cv2.CAP_PROP_FRAME_HEIGHT)\n",
        "    width = cap.get(cv2.CAP_PROP_FRAME_WIDTH)\n",
        "\n",
        "    print(f\"Height: {height}, Width: {width}\")\n",
        "\n",
        "    # Number of frames in the video\n",
        "    FPS = cap.get(cv2.CAP_PROP_FPS)\n",
        "    print(f\"FPS: {FPS}\")\n",
        "\n",
        "    return cap, int(height), int(width), FPS"
      ]
    },
    {
      "cell_type": "code",
      "execution_count": 6,
      "metadata": {
        "colab": {
          "base_uri": "https://localhost:8080/"
        },
        "id": "pUbikGPPDpAt",
        "outputId": "93614dfd-2073-4d2e-a83a-7fc98891fa26"
      },
      "outputs": [
        {
          "name": "stdout",
          "output_type": "stream",
          "text": [
            "Opened the file successfully.\n",
            "File name: data/test.mp4\n",
            "Height: 1280.0, Width: 720.0\n",
            "FPS: 25.0\n"
          ]
        }
      ],
      "source": [
        "test_video, test_height, test_width, test_FPS = load_video(clips[-1])"
      ]
    },
    {
      "cell_type": "code",
      "execution_count": 7,
      "metadata": {
        "id": "NXsThaXwljs5"
      },
      "outputs": [],
      "source": [
        "def proper_opening(img, struct):\n",
        "  transformed = cv2.morphologyEx(\n",
        "      cv2.morphologyEx(\n",
        "          cv2.morphologyEx(img, cv2.MORPH_CLOSE, struct), cv2.MORPH_OPEN, struct\n",
        "      ), cv2.MORPH_CLOSE, struct\n",
        "  )\n",
        "\n",
        "  return np.min(np.stack((transformed, img), axis=2), axis=2)"
      ]
    },
    {
      "cell_type": "code",
      "execution_count": 17,
      "metadata": {
        "colab": {
          "base_uri": "https://localhost:8080/",
          "height": 217
        },
        "id": "WdCzIMvWlm1C",
        "outputId": "68d3cded-01bb-4aec-b407-168c77b69ce3"
      },
      "outputs": [
        {
          "data": {
            "image/png": "[encoded data removed]",
            "text/plain": [
              "<PIL.Image.Image image mode=L size=110x64>"
            ]
          },
          "metadata": {},
          "output_type": "display_data"
        },
        {
          "data": {
            "image/png": "[encoded data removed]",
            "text/plain": [
              "<PIL.Image.Image image mode=L size=118x72>"
            ]
          },
          "metadata": {},
          "output_type": "display_data"
        },
        {
          "data": {
            "image/png": "[encoded data removed]",
            "text/plain": [
              "<PIL.Image.Image image mode=L size=103x64>"
            ]
          },
          "metadata": {},
          "output_type": "display_data"
        }
      ],
      "source": [
        "# pre process images used for reference\n",
        "assassin = cv2.imread('data/assassin.jpg', cv2.IMREAD_COLOR)\n",
        "neutral1 = cv2.imread('data/neutral1.jpg', cv2.IMREAD_COLOR)\n",
        "neutral2 = cv2.imread('data/neutral2.jpg', cv2.IMREAD_COLOR)\n",
        "\n",
        "# rotate left and downscale\n",
        "assassin = cv2.rotate(assassin, cv2.ROTATE_90_COUNTERCLOCKWISE)\n",
        "assassin = cv2.resize(assassin, (176, 120))\n",
        "neutral1 = cv2.resize(neutral1, (176, 120))\n",
        "neutral2 = cv2.resize(neutral2, (176, 120))\n",
        "\n",
        "# remove background, leaving only the assassin\n",
        "\n",
        "# find mask with the assassin\n",
        "assassin_hsv = cv2.cvtColor(assassin, cv2.COLOR_BGR2HSV)\n",
        "neutral1_hsv = cv2.cvtColor(neutral1, cv2.COLOR_BGR2HSV)\n",
        "neutral2_hsv = cv2.cvtColor(neutral2, cv2.COLOR_BGR2HSV)\n",
        "assassin_mask = cv2.inRange(assassin_hsv, (0, 0, 0), (100, 100, 100))\n",
        "neutral1_mask = cv2.inRange(neutral1_hsv, (0, 10, 10), (50, 255, 255))\n",
        "neutral2_mask = cv2.inRange(neutral2_hsv, (0, 10, 10), (50, 255, 255))\n",
        "\n",
        "\n",
        "# apply opening to the mask\n",
        "assassin_mask = proper_opening(assassin_mask, np.ones((7, 7), np.uint8))\n",
        "neutral1_mask = proper_opening(neutral1_mask, np.ones((7, 7), np.uint8))\n",
        "neutral2_mask = proper_opening(neutral2_mask, np.ones((7, 7), np.uint8))\n",
        "\n",
        "# Keep only mask remove the rest from the\n",
        "new_assassin = np.zeros_like(assassin)\n",
        "new_neutral1 = np.zeros_like(neutral1)\n",
        "new_neutral2 = np.zeros_like(neutral2)\n",
        "new_assassin[assassin_mask == 255] = assassin[assassin_mask == 255]\n",
        "new_neutral1[neutral1_mask == 255] = neutral1[neutral1_mask == 255]\n",
        "new_neutral2[neutral2_mask == 255] = neutral2[neutral2_mask == 255]\n",
        "\n",
        "# crop the black background\n",
        "x, y, w, h = cv2.boundingRect(assassin_mask)\n",
        "assassin = assassin[y:y+h, x:x+w]\n",
        "x, y, w, h = cv2.boundingRect(neutral1_mask)\n",
        "neutral1 = neutral1[y:y+h, x:x+w]\n",
        "x, y, w, h = cv2.boundingRect(neutral2_mask)\n",
        "neutral2 = neutral2[y:y+h, x:x+w]\n",
        "\n",
        "# change to grayscale\n",
        "assassin_gray = cv2.cvtColor(assassin, cv2.COLOR_BGR2GRAY)\n",
        "neutral1_gray = cv2.cvtColor(neutral1, cv2.COLOR_BGR2GRAY)\n",
        "neutral2_gray = cv2.cvtColor(neutral2, cv2.COLOR_BGR2GRAY)\n",
        "\n",
        "imshow(assassin_gray)\n",
        "imshow(neutral1_gray)\n",
        "imshow(neutral2_gray)"
      ]
    },
    {
      "cell_type": "code",
      "execution_count": 29,
      "metadata": {
        "colab": {
          "base_uri": "https://localhost:8080/",
          "height": 322
        },
        "id": "1Dbz3gvqmPMy",
        "outputId": "1e7e2723-ecd1-49b6-9f8e-7c6d00289930"
      },
      "outputs": [],
      "source": [
        "\n",
        "\n",
        "def do_everything(input_file_path, output_file_path):\n",
        "    video, height, width, FPS = load_video(input_file_path)\n",
        "    # Define the codec and create VideoWriter object\n",
        "    fourcc = cv2.VideoWriter_fourcc(*\"DIVX\")\n",
        "    output_video = cv2.VideoWriter(\n",
        "        output_file_path,\n",
        "        fourcc,\n",
        "        FPS,\n",
        "        (width, height),\n",
        "        )\n",
        "\n",
        "    # Create a background subtractor\n",
        "    fgbg = cv2.createBackgroundSubtractorMOG2()\n",
        "\n",
        "\n",
        "    frame_n = -1\n",
        "    while video.isOpened():\n",
        "\n",
        "        ret, frame = video.read()\n",
        "        frame_n += 1\n",
        "        if not ret:\n",
        "            break\n",
        "        # === Color Segmentation ===\n",
        "        # Range of colors in HSV\n",
        "        hsv = cv2.cvtColor(frame, cv2.COLOR_BGR2HSV)\n",
        "        # bounds for red and blue\n",
        "        lower_red = np.array([0, 100, 100])\n",
        "        upper_red = np.array([12, 255, 255])\n",
        "        lower_blue = np.array([98, 50, 50])\n",
        "        upper_blue = np.array([118, 255, 255])\n",
        "\n",
        "        # Threshold the HSV image to get only predefined colors\n",
        "        mask_red = cv2.inRange(hsv, lower_red, upper_red)\n",
        "        mask_blue = cv2.inRange(hsv, lower_blue, upper_blue)\n",
        "\n",
        "        # Combine masks\n",
        "        mask = cv2.bitwise_or(mask_red, mask_blue)\n",
        "\n",
        "        # apply proper opening\n",
        "        mask = proper_opening(mask, np.ones((5, 5), np.uint8))\n",
        "        # dilate mask to fill in holes\n",
        "        mask = cv2.dilate(mask, np.ones((3, 3), np.uint8), iterations=3)\n",
        "\n",
        "\n",
        "        # Find contours and draw bounding boxes around detected elements\n",
        "        contours_red_blue, _ = cv2.findContours(mask, cv2.RETR_EXTERNAL, cv2.CHAIN_APPROX_SIMPLE)\n",
        "\n",
        "        # === Hand Detection ===\n",
        "\n",
        "        # find background\n",
        "        fgmask = fgbg.apply(frame)\n",
        "\n",
        "        # Remove noise\n",
        "        fgmask = cv2.morphologyEx(fgmask, cv2.MORPH_OPEN, cv2.getStructuringElement(cv2.MORPH_ELLIPSE, (5, 5)))\n",
        "        fgmask = cv2.dilate(fgmask, None, iterations=2)\n",
        "\n",
        "        contours_hand, _ = cv2.findContours(fgmask, cv2.RETR_EXTERNAL, cv2.CHAIN_APPROX_SIMPLE)\n",
        "\n",
        "\n",
        "        if frame_n % 20 == 0:\n",
        "            # === Key Point Detection ===\n",
        "            gray_frame = cv2.cvtColor(frame, cv2.COLOR_BGR2GRAY)\n",
        "            sift = cv2.SIFT_create()\n",
        "            kp_frame, des_frame = sift.detectAndCompute(gray_frame, None)\n",
        "\n",
        "            # === Assasin ===\n",
        "            kp_assassin, des_assassin = sift.detectAndCompute(assassin_gray, None)\n",
        "            bf = cv2.BFMatcher()\n",
        "\n",
        "            matches = bf.knnMatch(des_assassin, des_frame,k=2)\n",
        "\n",
        "            good = []\n",
        "            for m,n in matches:\n",
        "                if m.distance < 0.65*n.distance:\n",
        "                    good.append([m])\n",
        "\n",
        "            clusters = []\n",
        "            for match in good:\n",
        "                pt1 = kp_assassin[match[0].queryIdx].pt\n",
        "                pt2 = kp_frame[match[0].trainIdx].pt\n",
        "                added_to_cluster = False\n",
        "\n",
        "                for cluster in clusters:\n",
        "                    for point in cluster:\n",
        "                        if np.linalg.norm(np.array(pt1) - np.array(point)) < 120:\n",
        "                            cluster.append(pt2)\n",
        "                            added_to_cluster = True\n",
        "                            break\n",
        "\n",
        "                    if added_to_cluster:\n",
        "                        break\n",
        "\n",
        "                if not added_to_cluster:\n",
        "                    clusters.append([pt1, pt2])\n",
        "\n",
        "            # === Neutral ===\n",
        "            # sift = cv2.SIFT_create()\n",
        "            kp_neutral1, des_neutral1 = sift.detectAndCompute(neutral1_gray, None)\n",
        "            kp_neutral2, des_neutral2 = sift.detectAndCompute(neutral2_gray, None)\n",
        "\n",
        "\n",
        "            bf = cv2.BFMatcher()\n",
        "\n",
        "            matches_neutral1 = bf.knnMatch(des_neutral1,des_frame,k=2)\n",
        "            matches_neutral2 = bf.knnMatch(des_neutral2,des_frame,k=2)\n",
        "\n",
        "            good_neutral = []\n",
        "            for m,n in matches_neutral1:\n",
        "                if m.distance < 0.75*n.distance:\n",
        "                    good_neutral.append([m])\n",
        "\n",
        "            for m,n in matches_neutral2:\n",
        "                if m.distance < 0.75*n.distance:\n",
        "                    good_neutral.append([m])\n",
        "            \n",
        "\n",
        "            neutral_clusters = []\n",
        "            for m in good_neutral:\n",
        "                current_point = kp_frame[m[0].trainIdx].pt\n",
        "                added_to_cluster = False\n",
        "\n",
        "                for cluster in neutral_clusters:\n",
        "                    for point in cluster:\n",
        "                        distance = np.sqrt((point[0] - current_point[0])**2 + (point[1] - current_point[1])**2)\n",
        "                        if distance < 70:\n",
        "                            cluster.append(current_point)\n",
        "                            added_to_cluster = True\n",
        "                            break\n",
        "                    if added_to_cluster:\n",
        "                        break\n",
        "                if not added_to_cluster:\n",
        "                    neutral_clusters.append([current_point])\n",
        "\n",
        "\n",
        "        # === Display ===\n",
        "        # Display color segmentation detection results\n",
        "        for contour in contours_red_blue:\n",
        "            if cv2.contourArea(contour) < 1500 or cv2.contourArea(contour) > 50000:\n",
        "                continue\n",
        "            x, y, w, h = cv2.boundingRect(contour)\n",
        "\n",
        "            cv2.rectangle(frame, (x,y), (x+w, y+h), (0, 255, 0), 2)\n",
        "            if np.sum(mask_blue[y:y+h, x:x+w]) > np.sum(mask_red[y:y+h, x:x+w]):\n",
        "                cv2.putText(frame, 'Team Blue', (x, y-10), cv2.FONT_HERSHEY_SIMPLEX, 0.9, (255, 0, 0), 2)\n",
        "            elif np.sum(mask_blue[y:y+h, x:x+w]) < np.sum(mask_red[y:y+h, x:x+w]):\n",
        "                cv2.putText(frame, 'Team Red', (x, y-10), cv2.FONT_HERSHEY_SIMPLEX, 0.9, (0, 0, 255), 2)\n",
        "\n",
        "        # Display assasin\n",
        "        for cluster in clusters:\n",
        "            if len(cluster) < 4:\n",
        "                continue\n",
        "            # find middle point of the cluster\n",
        "            middle_point = np.mean(cluster, axis=0)\n",
        "            x, y = middle_point\n",
        "            # draw circle around the middle point\n",
        "            cv2.circle(frame, (int(x), int(y)), 70, (0, 0, 255), 2)\n",
        "            cv2.putText(frame, 'Assasin', (int(x)-40, int(y)-10), cv2.FONT_HERSHEY_SIMPLEX, 0.9, (0, 0, 255), 2)\n",
        "\n",
        "        # Display neutral\n",
        "        for cluster in neutral_clusters:\n",
        "            if len(cluster) < 2:\n",
        "                continue\n",
        "            # find middle point of the cluster\n",
        "            middle_point = np.mean(cluster, axis=0)\n",
        "            x, y = middle_point\n",
        "            # draw circle around the middle point\n",
        "            cv2.circle(frame, (int(x), int(y)), 70, (255, 0, 0), 2)\n",
        "            cv2.putText(frame, 'Neutral', (int(x)-40, int(y)-10), cv2.FONT_HERSHEY_SIMPLEX, 0.9, (0, 0, 255), 2)\n",
        "\n",
        "\n",
        "        # Display hand detection results\n",
        "        # We are assuming that hand is the biggest moving object in the frame.\n",
        "        max_area = 0\n",
        "        hand_box = None\n",
        "        for contour in contours_hand:\n",
        "            area = cv2.contourArea(contour)\n",
        "            if area > max_area:\n",
        "                max_area = area\n",
        "                x, y, w, h = cv2.boundingRect(contour)\n",
        "                hand_box = (x, y, x + w, y + h)\n",
        "\n",
        "        if hand_box is not None and max_area > 50000:\n",
        "            cv2.rectangle(frame, (hand_box[0], hand_box[1]), (hand_box[2], hand_box[3]), (0, 255, 0), 2)\n",
        "            cv2.putText(frame, 'Picking card', (hand_box[0], hand_box[1]-10), cv2.FONT_HERSHEY_SIMPLEX, 0.9, (0, 255, 0), 2)\n",
        "\n",
        "        output_video.write(frame)\n",
        "\n",
        "    video.release()  # Release the video capture\n",
        "    output_video.release()"
      ]
    },
    {
      "cell_type": "code",
      "execution_count": null,
      "metadata": {
        "id": "o8pA4bBbDpAv"
      },
      "outputs": [],
      "source": [
        "!ffmpeg -hide_banner -loglevel error -i test_clip_foreground.avi -y test_clip_foreground.mp4"
      ]
    },
    {
      "cell_type": "code",
      "execution_count": 30,
      "metadata": {
        "id": "OQXgPDyIf9R-"
      },
      "outputs": [
        {
          "name": "stdout",
          "output_type": "stream",
          "text": [
            "Opened the file successfully.\n",
            "File name: data/1.MOV\n",
            "Height: 1920.0, Width: 1080.0\n",
            "FPS: 29.97002997002997\n",
            "Done with data/1.MOV\n",
            "Opened the file successfully.\n",
            "File name: data/2.MOV\n",
            "Height: 1920.0, Width: 1080.0\n",
            "FPS: 29.97002997002997\n",
            "Done with data/2.MOV\n",
            "Opened the file successfully.\n",
            "File name: data/3.MOV\n",
            "Height: 1920.0, Width: 1080.0\n",
            "FPS: 29.97002997002997\n",
            "Done with data/3.MOV\n",
            "Opened the file successfully.\n",
            "File name: data/MEDIUM_1.MOV\n",
            "Height: 1920.0, Width: 1080.0\n",
            "FPS: 29.97002997002997\n",
            "Done with data/MEDIUM_1.MOV\n",
            "Opened the file successfully.\n",
            "File name: data/MEDIUM_2.MOV\n",
            "Height: 1920.0, Width: 1080.0\n",
            "FPS: 29.97002997002997\n",
            "Done with data/MEDIUM_2.MOV\n",
            "Opened the file successfully.\n",
            "File name: data/MEDIUM_3.MOV\n",
            "Height: 1920.0, Width: 1080.0\n",
            "FPS: 29.97002997002997\n",
            "Done with data/MEDIUM_3.MOV\n",
            "Opened the file successfully.\n",
            "File name: data/HARD_1.MOV\n",
            "Height: 1920.0, Width: 1080.0\n",
            "FPS: 29.97002997002997\n",
            "Done with data/HARD_1.MOV\n",
            "Opened the file successfully.\n",
            "File name: data/HARD_2.MOV\n",
            "Height: 1080.0, Width: 1920.0\n",
            "FPS: 29.97002997002997\n",
            "Done with data/HARD_2.MOV\n",
            "Opened the file successfully.\n",
            "File name: data/HARD_3.MOV\n",
            "Height: 1080.0, Width: 1920.0\n",
            "FPS: 29.97002997002997\n",
            "Done with data/HARD_3.MOV\n",
            "Opened the file successfully.\n",
            "File name: data/test.mp4\n",
            "Height: 1280.0, Width: 720.0\n",
            "FPS: 25.0\n",
            "Done with data/test.mp4\n"
          ]
        }
      ],
      "source": [
        "for clip in clips:\n",
        "    do_everything(clip, f'outputs/{clip.split(\"/\")[-1]}')\n",
        "    print(f'Done with {clip}')"
      ]
    },
    {
      "cell_type": "markdown",
      "metadata": {
        "id": "YfEjDAnUDpAy"
      },
      "source": []
    }
  ],
  "metadata": {
    "colab": {
      "provenance": []
    },
    "kernelspec": {
      "display_name": "Python 3",
      "language": "python",
      "name": "python3"
    },
    "language_info": {
      "codemirror_mode": {
        "name": "ipython",
        "version": 3
      },
      "file_extension": ".py",
      "mimetype": "text/x-python",
      "name": "python",
      "nbconvert_exporter": "python",
      "pygments_lexer": "ipython3",
      "version": "3.10.0"
    }
  },
  "nbformat": 4,
  "nbformat_minor": 0
}
