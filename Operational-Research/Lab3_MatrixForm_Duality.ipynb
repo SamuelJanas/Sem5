{
 "cells": [
  {
   "cell_type": "markdown",
   "metadata": {},
   "source": [
    "# Lab 3 - The Matrix Form and The Duality Theory"
   ]
  },
  {
   "cell_type": "markdown",
   "metadata": {},
   "source": [
    "<b>Information on group members:</b><br>\n",
    "1) Student ID, Name and last name <br>\n",
    "2) Student ID, Name and last name"
   ]
  },
  {
   "cell_type": "code",
   "execution_count": 1,
   "metadata": {},
   "outputs": [],
   "source": [
    "from pulp import *  \n",
    "import numpy as np\n",
    "import pandas as pd\n",
    "import itertools\n",
    "from IPython.display import display"
   ]
  },
  {
   "cell_type": "markdown",
   "metadata": {},
   "source": [
    "# 1) The Matrix Form - Fundamental Insight (finish this part to get 3.0)"
   ]
  },
  {
   "cell_type": "markdown",
   "metadata": {},
   "source": [
    "1.1) Given is the below (primal) linear problem:"
   ]
  },
  {
   "cell_type": "markdown",
   "metadata": {},
   "source": [
    "primal problem:<br>\n",
    "MAXIMIZE<br>\n",
    "4*x1 + 2*x2 + 3*x3 <br>\n",
    "\n",
    "SUBJECT TO<br>\n",
    "1_constraint: x1 + x2 <= 10<br>\n",
    "2_constraint: 2*x2 + x3 <= 12<br>\n",
    "3_constraint: 3*x1 + 2*x3 <= 15<br>\n",
    "4_constraint: x1 + x2 + x3 <= 20<br>\n",
    "\n",
    "VARIABLES<br>\n",
    "x1 Continuous<br>\n",
    "x2 Continuous<br>\n",
    "x3 Continuous<br>"
   ]
  },
  {
   "cell_type": "markdown",
   "metadata": {},
   "source": [
    "1.2) Use the PuLP library to solve the above problem. Identify the optimal solution: the values for basic variables and the corresponding value for the objective function."
   ]
  },
  {
   "cell_type": "code",
   "execution_count": 2,
   "metadata": {},
   "outputs": [
    {
     "data": {
      "text/plain": [
       "PrimalProblem:\n",
       "MAXIMIZE\n",
       "4*x1 + 2*x2 + 3*x3 + 0\n",
       "SUBJECT TO\n",
       "1_constraint: x1 + x2 <= 10\n",
       "\n",
       "2_constraint: 2 x2 + x3 <= 12\n",
       "\n",
       "3_constraint: 3 x1 + 2 x3 <= 15\n",
       "\n",
       "4_constraint: x1 + x2 + x3 <= 20\n",
       "\n",
       "VARIABLES\n",
       "x1 Continuous\n",
       "x2 Continuous\n",
       "x3 Continuous"
      ]
     },
     "execution_count": 2,
     "metadata": {},
     "output_type": "execute_result"
    }
   ],
   "source": [
    "# Create a linear programming problem\n",
    "model = LpProblem(name=\"PrimalProblem\", sense=LpMaximize)\n",
    "\n",
    "# Define the variables\n",
    "x1 = LpVariable(name=\"x1\", lowBound=0)\n",
    "x2 = LpVariable(name=\"x2\", lowBound=0)\n",
    "x3 = LpVariable(name=\"x3\", lowBound=0)\n",
    "\n",
    "# Define the objective function\n",
    "obj_func = 4 * x1 + 2 * x2 + 3 * x3\n",
    "model += (obj_func, \"objective_function\")\n",
    "\n",
    "# Add constraints\n",
    "model += (x1 + x2 <= 10, \"1_constraint\")\n",
    "model += (2 * x2 + x3 <= 12, \"2_constraint\")\n",
    "model += (3 * x1 + 2 * x3 <= 15, \"3_constraint\")\n",
    "model += (x1 + x2 + x3 <= 20, \"4_constraint\")\n",
    "\n",
    "model"
   ]
  },
  {
   "cell_type": "code",
   "execution_count": 3,
   "metadata": {},
   "outputs": [
    {
     "name": "stdout",
     "output_type": "stream",
     "text": [
      "status: 1, Optimal\n",
      "objective: 31.428571379999998\n",
      "4.4285714\n",
      "5.5714286\n",
      "0.85714286\n",
      "x1: 4.4285714\n",
      "x2: 5.5714286\n",
      "x3: 0.85714286\n"
     ]
    }
   ],
   "source": [
    "status = model.solve()\n",
    "\n",
    "# Print status\n",
    "print(f\"status: {model.status}, {LpStatus[model.status]}\")\n",
    "\n",
    "# Print objective value\n",
    "print(f\"objective: {model.objective.value()}\")\n",
    "\n",
    "model.variables()\n",
    "print(x1.value())\n",
    "print(x2.value())\n",
    "print(x3.value())\n",
    "\n",
    "# Print variable values\n",
    "for var in model.variables():\n",
    "    print(f\"{var.name}: {var.value()}\")"
   ]
  },
  {
   "cell_type": "markdown",
   "metadata": {},
   "source": [
    "1.3) In this exercise, you are asked to identify ALL basic (feasible and not) solutions to the above problem. We will do this naively. Specifically, you are asked to use the fundamental insight to build a final simplex tableau for each possible base. Therefore, you need first to initialize the data: c, b, A matrixes, and it is suggested to initialize the auxiliary matrix M defined as M = A + (concatenate) I (identity matrix). Note that the problem should be formulated in the augmented form. Then, you have to iterate over each possible base B, compute B-1, and other relevant parts for the simplex tableau.<br><br>\n",
    "a) Identify the optimal solution using the optimality condition; print it (Z value and values for basic variables); compare thus derived solution with the optimum found using the PuLP library (obviously, both solutions should be the same). <br>\n",
    "b) Count the number of feasible and infeasible solutions. How many (all) basic solutions to the problem can be identified? <br><br>\n",
    "It is suggested to use the NumPy library for performing matrix operations. "
   ]
  },
  {
   "cell_type": "code",
   "execution_count": 4,
   "metadata": {},
   "outputs": [],
   "source": [
    "# Define the matrices and vectors\n",
    "c = np.array([4, 2, 3, 0, 0, 0, 0])\n",
    "b = np.array([10, 12, 15, 20])\n",
    "A = np.array([[1, 1, 0],\n",
    "              [0, 2, 1],\n",
    "              [3, 0, 2],\n",
    "              [1, 1, 1]])"
   ]
  },
  {
   "cell_type": "code",
   "execution_count": 5,
   "metadata": {},
   "outputs": [
    {
     "name": "stdout",
     "output_type": "stream",
     "text": [
      "optimal alert (0, 1, 2, 6) : 31.428571428571423\n",
      "optimal alert (0, 1, 4, 6) : 30.0\n",
      "optimal alert (0, 3, 4, 6) : 20.0\n",
      "optimal alert (1, 2, 3, 6) : 27.0\n",
      "optimal alert (1, 3, 5, 6) : 12.0\n",
      "optimal alert (3, 4, 5, 6) : 0.0\n",
      "Number of feasible solutions: 8\n"
     ]
    }
   ],
   "source": [
    "import numpy as np\n",
    "\n",
    "def simplex_components(c, b, A, base):\n",
    "    # Calculate the basis matrix\n",
    "    B = A[:, base]\n",
    "    # Calculate the inverse of the basis matrix\n",
    "    try:\n",
    "        B_inv = np.linalg.inv(B)\n",
    "    except np.linalg.LinAlgError:\n",
    "        return None\n",
    "\n",
    "    # Calculate the right-hand side values\n",
    "    b_prime = B_inv.dot(b)\n",
    "\n",
    "    # Calculate the coefficients for the decision variables in the basis\n",
    "    A_prime = B_inv.dot(A)\n",
    "\n",
    "    # Calculate the row 0 coefficients for the non-basic variables (decision variables)\n",
    "    # and the objective function value\n",
    "    c_B = c[base]\n",
    "    row_0_decision = c - np.dot(c_B, A_prime)\n",
    "\n",
    "    # The objective function value is the dot product of the inverse of the basis\n",
    "    # and the right-hand side values\n",
    "    z = np.dot(c_B, b_prime)\n",
    "\n",
    "    slack = c_B @ B_inv\n",
    "    decision_var = c - slack @ A\n",
    "    decision_var = decision_var[:3]\n",
    "\n",
    "    return B_inv, A_prime, b_prime, z, row_0_decision, decision_var, slack\n",
    "\n",
    "# Define the input parameters\n",
    "c = np.array([4, 2, 3, 0, 0, 0, 0])\n",
    "b = np.array([10, 12, 15, 20])\n",
    "A = np.array([\n",
    "    [1, 1, 0, 1, 0, 0, 0],\n",
    "    [0, 2, 1, 0, 1, 0, 0],\n",
    "    [3, 0, 2, 0, 0, 1, 0],\n",
    "    [1, 1, 1, 0, 0, 0, 1]\n",
    "])\n",
    "\n",
    "# Check all combinations of bases\n",
    "feasible_solution_count = 0\n",
    "for base in itertools.combinations(range(A.shape[1]), A.shape[0]):\n",
    "    components = simplex_components(c, b, A, list(base))\n",
    "    if components is not None:\n",
    "        B_inv, A_prime, b_prime, z, row_0_decision, decision_var, slack = components\n",
    "        if np.all(b_prime >= 0):\n",
    "            feasible_solution_count += 1\n",
    "            if np.all(slack >= 0) and np.all(decision_var >= 0):\n",
    "                print(f'optimal alert {base} : {z}')\n",
    "\n",
    "print(f\"Number of feasible solutions: {feasible_solution_count}\")\n",
    "    "
   ]
  },
  {
   "cell_type": "markdown",
   "metadata": {},
   "source": [
    "## 2) The Duality Theory (finish this part + part 1 + to get 5.0)"
   ]
  },
  {
   "cell_type": "markdown",
   "metadata": {},
   "source": [
    "2.1) Model the dual problem to the above solved primal one, using the PuLP library. Then, solve it and compare the derived optimum with the optimum for the primal problem. Are they equal?"
   ]
  },
  {
   "cell_type": "code",
   "execution_count": 6,
   "metadata": {},
   "outputs": [
    {
     "data": {
      "text/plain": [
       "DualProblem:\n",
       "MINIMIZE\n",
       "10*y1 + 12*y2 + 15*y3 + 20*y4 + 0\n",
       "SUBJECT TO\n",
       "1_constraint: y1 + 3 y3 + y4 >= 4\n",
       "\n",
       "2_constraint: y1 + 2 y2 + y4 >= 2\n",
       "\n",
       "3_constraint: y2 + 2 y3 + y4 >= 3\n",
       "\n",
       "VARIABLES\n",
       "y1 Continuous\n",
       "y2 Continuous\n",
       "y3 Continuous\n",
       "y4 Continuous"
      ]
     },
     "execution_count": 6,
     "metadata": {},
     "output_type": "execute_result"
    }
   ],
   "source": [
    "model = LpProblem(name=\"DualProblem\", sense=LpMinimize)\n",
    "\n",
    "# Define the variables\n",
    "y1 = LpVariable(name=\"y1\", lowBound=0)\n",
    "y2 = LpVariable(name=\"y2\", lowBound=0)\n",
    "y3 = LpVariable(name=\"y3\", lowBound=0)\n",
    "y4 = LpVariable(name=\"y4\", lowBound=0)\n",
    "\n",
    "# Define the objective function\n",
    "obj_func = 10 * y1 + 12 * y2 + 15 * y3 + 20 * y4\n",
    "model += (obj_func, \"objective_function\")\n",
    "\n",
    "# Add constraints\n",
    "model += (y1 + 3 * y3 + y4 >= 4, \"1_constraint\")\n",
    "model += (y1 + 2 * y2 + y4 >= 2, \"2_constraint\")\n",
    "model += (y2 + 2 * y3 + y4 >= 3, \"3_constraint\")\n",
    "\n",
    "model"
   ]
  },
  {
   "cell_type": "code",
   "execution_count": 7,
   "metadata": {},
   "outputs": [
    {
     "name": "stdout",
     "output_type": "stream",
     "text": [
      "status: 1, Optimal\n",
      "objective: 31.42857072\n",
      "0.57142857\n",
      "0.71428571\n",
      "1.1428571\n",
      "0.0\n"
     ]
    }
   ],
   "source": [
    "### Solve here:\n",
    "status = model.solve()\n",
    "\n",
    "# Print status\n",
    "print(f\"status: {model.status}, {LpStatus[model.status]}\")\n",
    "\n",
    "# Print objective value\n",
    "print(f\"objective: {model.objective.value()}\")\n",
    "print(y1.value())\n",
    "print(y2.value())\n",
    "print(y3.value())\n",
    "print(y4.value())\n",
    "\n"
   ]
  },
  {
   "cell_type": "markdown",
   "metadata": {},
   "source": [
    "2.2) This exercise is based on the exercise 1.3 (copy & paste solution). Here, you are asked to iterate over all basic solutions (as in 1.3) and store them along with their complementary dual solutions. Solutions should be stored in the PRIMAL_DUAL_SOLUTIONS list and sorted according to the objective value Z = W. Analyze their optimality and feasibility. Finally, you have to display all basic solutions wlong with their complementary solutions (you can use the provided piece of code written using the pandas library). <br><br>\n",
    "\n",
    "PRIMAL_DUAL_SOLUTIONS is defined as a table consisting of n rows, where n is the number of basic solutions to the problem, and 21 columns. The columns are defined as follows:<br>\n",
    "Col. 1: The objective value Z<br>\n",
    "Col. 2-4: The values for decision variables (primal solution)<br>\n",
    "Col. 5-8: The values for slack variables (primal solution)<br>\n",
    "Col. 9: P_F = Y or N, Y/N = primal solution is feasible/infeasible<br>\n",
    "Col. 10: P_O = Y or N, Y/N = primal solution is optimal/is not optimal<br>\n",
    "Col. 11: P_STATE = -/suboptimal/superoptimal/optimal; depends on P_F and P_O (primal)<br>\n",
    "Col. 12: D_STATE = -/suboptimal/superoptimal/optimal; depends on D_F and D_O (dual)<br>\n",
    "Col. 13: D_F = Y or N, Y/N = dual solution is feasible/infeasible<br>\n",
    "Col. 14: D_O = Y or N, Y/N = dual solution is optimal/is not optimal<br>\n",
    "Col. 15-18: The values for decision variables (dual solution)<br>\n",
    "Col. 19-21: The values for surplus variables (dual solution)<br><br>\n",
    "\n",
    "Reminder: sort solutions according to Z; analyze how their states change with the increase of Z."
   ]
  },
  {
   "cell_type": "code",
   "execution_count": 8,
   "metadata": {},
   "outputs": [
    {
     "ename": "NameError",
     "evalue": "name 'solutions' is not defined",
     "output_type": "error",
     "traceback": [
      "\u001b[1;31m---------------------------------------------------------------------------\u001b[0m",
      "\u001b[1;31mNameError\u001b[0m                                 Traceback (most recent call last)",
      "\u001b[1;32m~\\AppData\\Local\\Temp/ipykernel_4012/1983358992.py\u001b[0m in \u001b[0;36m<module>\u001b[1;34m\u001b[0m\n\u001b[1;32m----> 1\u001b[1;33m \u001b[1;32mfor\u001b[0m \u001b[0mx_b\u001b[0m\u001b[1;33m,\u001b[0m \u001b[0mis_feasible\u001b[0m\u001b[1;33m,\u001b[0m \u001b[0mbasis_indices\u001b[0m \u001b[1;32min\u001b[0m \u001b[0msolutions\u001b[0m\u001b[1;33m:\u001b[0m\u001b[1;33m\u001b[0m\u001b[1;33m\u001b[0m\u001b[0m\n\u001b[0m\u001b[0;32m      2\u001b[0m \u001b[1;33m\u001b[0m\u001b[0m\n\u001b[0;32m      3\u001b[0m     \u001b[0mprint\u001b[0m\u001b[1;33m(\u001b[0m\u001b[1;34mf\"x_b = {x_b}, basis_indices = {basis_indices}\"\u001b[0m\u001b[1;33m)\u001b[0m\u001b[1;33m\u001b[0m\u001b[1;33m\u001b[0m\u001b[0m\n",
      "\u001b[1;31mNameError\u001b[0m: name 'solutions' is not defined"
     ]
    }
   ],
   "source": [
    "for x_b, is_feasible, basis_indices in solutions:\n",
    "    \n",
    "    print(f\"x_b = {x_b}, basis_indices = {basis_indices}\")"
   ]
  },
  {
   "cell_type": "code",
   "execution_count": null,
   "metadata": {},
   "outputs": [],
   "source": []
  }
 ],
 "metadata": {
  "kernelspec": {
   "display_name": "Python 3",
   "language": "python",
   "name": "python3"
  },
  "language_info": {
   "codemirror_mode": {
    "name": "ipython",
    "version": 3
   },
   "file_extension": ".py",
   "mimetype": "text/x-python",
   "name": "python",
   "nbconvert_exporter": "python",
   "pygments_lexer": "ipython3",
   "version": "3.10.0"
  }
 },
 "nbformat": 4,
 "nbformat_minor": 4
}
