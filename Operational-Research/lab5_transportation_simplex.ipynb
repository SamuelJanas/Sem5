{
 "cells": [
  {
   "cell_type": "code",
   "execution_count": 16,
   "metadata": {},
   "outputs": [],
   "source": [
    "import numpy as np"
   ]
  },
  {
   "cell_type": "markdown",
   "metadata": {},
   "source": [
    "1) Samuel Janas 151927\n",
    "2) Michał Skrzypek 151766"
   ]
  },
  {
   "cell_type": "code",
   "execution_count": 17,
   "metadata": {},
   "outputs": [],
   "source": [
    "# set seed for reproducibility\n",
    "np.random.seed(23)"
   ]
  },
  {
   "cell_type": "code",
   "execution_count": 18,
   "metadata": {},
   "outputs": [],
   "source": [
    "import numpy as np\n",
    "\n",
    "def create_transportation_problem(num_sources, num_destinations, zero_chance=0.1, M_chance=0.05, M_value=999):\n",
    "    \"\"\"\n",
    "    Creates a transportation problem with specified number of sources and destinations.\n",
    "    Costs can be randomly set to zero or a very high number (M_value) with given chances.\n",
    "    \n",
    "    Parameters:\n",
    "    num_sources (int): Number of sources.\n",
    "    num_destinations (int): Number of destinations.\n",
    "    zero_chance (float): Probability of a cost being zero.\n",
    "    M_chance (float): Probability of a cost being M_value (very high cost).\n",
    "    M_value (int): The very high cost to use for prohibitive connections.\n",
    "    \n",
    "    Returns:\n",
    "    tuple: Returns a tuple containing the cost matrix, supply, and demand arrays.\n",
    "    \"\"\"\n",
    "    \n",
    "    if num_sources <= 0 or num_destinations <= 0:\n",
    "        raise ValueError(\"Number of sources and destinations must be positive integers\")\n",
    "    \n",
    "    # Random cost matrix with occasional zeros\n",
    "    cost_matrix = np.random.randint(1, 11, size=(num_sources, num_destinations))\n",
    "    zero_mask = np.random.rand(num_sources, num_destinations) < zero_chance\n",
    "    M_mask = np.random.rand(num_sources, num_destinations) < M_chance\n",
    "    cost_matrix[zero_mask] = 0\n",
    "    cost_matrix[M_mask] = M_value\n",
    "\n",
    "    # Random supply and demand ensuring total supply equals total demand\n",
    "    total_units = np.random.randint(20, 50) * num_sources\n",
    "    supply = np.random.randint(1, total_units // num_sources, size=num_sources)\n",
    "    demand = np.random.randint(1, total_units // num_destinations, size=num_destinations)\n",
    "    \n",
    "    # Adjust supply and demand to introduce occasional zero rows/columns\n",
    "    if np.random.rand() < zero_chance:\n",
    "        supply[np.random.randint(0, num_sources)] = 0\n",
    "    if np.random.rand() < zero_chance:\n",
    "        demand[np.random.randint(0, num_destinations)] = 0\n",
    "    \n",
    "    # Ensure total supply equals total demand after zero introduction\n",
    "    supply_demand_difference = supply.sum() - demand.sum()\n",
    "    if supply_demand_difference > 0:\n",
    "        demand[-1] += supply_demand_difference\n",
    "    else:\n",
    "        supply[-1] -= supply_demand_difference\n",
    "\n",
    "    return cost_matrix, supply, demand"
   ]
  },
  {
   "cell_type": "code",
   "execution_count": 19,
   "metadata": {},
   "outputs": [],
   "source": [
    "def get_entering_variable_position(ws):\n",
    "    # Create a copy of ws and sort it based on the second element of each tuple\n",
    "    ws_copy = ws.copy()\n",
    "    ws_copy.sort(key=lambda w: w[1])\n",
    "    # Return the first element of the last tuple in the sorted list\n",
    "    return ws_copy[-1][0]"
   ]
  },
  {
   "cell_type": "code",
   "execution_count": 20,
   "metadata": {},
   "outputs": [],
   "source": [
    "def can_be_improved(ws):\n",
    "    for p, v in ws:\n",
    "        if v > 0: return True\n",
    "    return False\n"
   ]
  },
  {
   "cell_type": "code",
   "execution_count": 21,
   "metadata": {},
   "outputs": [],
   "source": [
    "def get_ws(bfs, costs, us, vs):\n",
    "    ws = []\n",
    "    # Iterate through the costs matrix\n",
    "    for i, row in enumerate(costs):\n",
    "        for j, cost in enumerate(row):\n",
    "            # Check if (i, j) is a non-basic variable\n",
    "            non_basic = all([p[0] != i or p[1] != j for p, v in bfs])\n",
    "            if non_basic:\n",
    "                # Calculate and append the opportunity cost\n",
    "                ws.append(((i, j), us[i] + vs[j] - cost))\n",
    "    return ws\n"
   ]
  },
  {
   "cell_type": "code",
   "execution_count": 22,
   "metadata": {},
   "outputs": [],
   "source": [
    "def get_possible_next_nodes(loop, not_visited):\n",
    "    last_node = loop[-1]\n",
    "    # Get all unvisited nodes in the same row or column as the last node\n",
    "    nodes_in_row = [n for n in not_visited if n[0] == last_node[0]]\n",
    "    nodes_in_column = [n for n in not_visited if n[1] == last_node[1]]\n",
    "    # Return the appropriate nodes based on the length of the loop\n",
    "    if len(loop) < 2:\n",
    "        return nodes_in_row + nodes_in_column\n",
    "    else:\n",
    "        prev_node = loop[-2]\n",
    "        row_move = prev_node[0] == last_node[0]\n",
    "        return nodes_in_column if row_move else nodes_in_row"
   ]
  },
  {
   "cell_type": "code",
   "execution_count": 23,
   "metadata": {},
   "outputs": [],
   "source": [
    "def loop_pivoting(bfs, loop):\n",
    "    # Separate the loop into even and odd positions\n",
    "    even_cells = loop[0::2]\n",
    "    odd_cells = loop[1::2]\n",
    "    get_bv = lambda pos: next(v for p, v in bfs if p == pos)\n",
    "    # Determine the position to leave from the loop\n",
    "    leaving_position = sorted(odd_cells, key=get_bv)[0]\n",
    "    leaving_value = get_bv(leaving_position)\n",
    "    \n",
    "    new_bfs = []\n",
    "    # Adjust the values of basic variables based on the leaving value\n",
    "    for p, v in [bv for bv in bfs if bv[0] != leaving_position] + [(loop[0], 0)]:\n",
    "        if p in even_cells:\n",
    "            v += leaving_value\n",
    "        elif p in odd_cells:\n",
    "            v -= leaving_value\n",
    "        new_bfs.append((p, v))\n",
    "        \n",
    "    return new_bfs\n"
   ]
  },
  {
   "cell_type": "code",
   "execution_count": 24,
   "metadata": {},
   "outputs": [],
   "source": [
    "def get_loop(bv_positions, ev_position):\n",
    "    def inner(loop):\n",
    "        if len(loop) > 3:\n",
    "            # Check if the loop can be closed\n",
    "            can_be_closed = len(get_possible_next_nodes(loop, [ev_position])) == 1\n",
    "            if can_be_closed: return loop\n",
    "        \n",
    "        not_visited = list(set(bv_positions) - set(loop))\n",
    "        possible_next_nodes = get_possible_next_nodes(loop, not_visited)\n",
    "        # Recursively build the loop\n",
    "        for next_node in possible_next_nodes:\n",
    "            new_loop = inner(loop + [next_node])\n",
    "            if new_loop: return new_loop\n",
    "    \n",
    "    return inner([ev_position])"
   ]
  },
  {
   "cell_type": "code",
   "execution_count": 25,
   "metadata": {},
   "outputs": [],
   "source": [
    "def get_us_and_vs(bfs, costs):\n",
    "    us = [None] * len(costs)\n",
    "    vs = [None] * len(costs[0])\n",
    "    us[0] = 0\n",
    "    bfs_copy = bfs.copy()\n",
    "    # Calculate the dual variables u and v\n",
    "    while len(bfs_copy) > 0:\n",
    "        for index, bv in enumerate(bfs_copy):\n",
    "            i, j = bv[0]\n",
    "            if us[i] is None and vs[j] is None: continue\n",
    "                \n",
    "            cost = costs[i][j]\n",
    "            if us[i] is None:\n",
    "                us[i] = cost - vs[j]\n",
    "            else: \n",
    "                vs[j] = cost - us[i]\n",
    "            bfs_copy.pop(index)\n",
    "            break\n",
    "            \n",
    "    return us, vs   "
   ]
  },
  {
   "cell_type": "code",
   "execution_count": 26,
   "metadata": {},
   "outputs": [],
   "source": [
    "def north_west_corner(supply, demand):\n",
    "    supply_copy = supply.copy()\n",
    "    demand_copy = demand.copy()\n",
    "    i = 0\n",
    "    j = 0\n",
    "    bfs = [] # basic feasible solution\n",
    "    # Assign supply to demand starting from the top-left corner\n",
    "    while len(bfs) < len(supply) + len(demand) - 1:\n",
    "        s = supply_copy[i]\n",
    "        d = demand_copy[j]\n",
    "        v = min(s, d)\n",
    "        supply_copy[i] -= v\n",
    "        demand_copy[j] -= v\n",
    "        bfs.append(((i, j), v))\n",
    "        # Move to the next supply or demand point\n",
    "        if supply_copy[i] == 0 and i < len(supply) - 1:\n",
    "            i += 1\n",
    "        elif demand_copy[j] == 0 and j < len(demand) - 1:\n",
    "            j += 1\n",
    "    return bfs "
   ]
  },
  {
   "cell_type": "code",
   "execution_count": 33,
   "metadata": {},
   "outputs": [],
   "source": [
    "def transportation_simplex_method(supply, demand, costs, penalties=None):\n",
    "    # The main function for the transportation simplex method\n",
    "    def inner(bfs):\n",
    "        us, vs = get_us_and_vs(bfs, costs)\n",
    "        ws = get_ws(bfs, costs, us, vs)\n",
    "        # Recursively find and pivot the entering and leaving variables\n",
    "        if can_be_improved(ws):\n",
    "            ev_position = get_entering_variable_position(ws)\n",
    "            loop = get_loop([p for p, v in bfs], ev_position)\n",
    "            return inner(loop_pivoting(bfs, loop))\n",
    "        return bfs\n",
    "    \n",
    "    basic_variables = inner(north_west_corner(supply, demand))\n",
    "    solution = np.zeros((len(costs), len(costs[0])))\n",
    "    # Construct the final solution\n",
    "    for (i, j), v in basic_variables:\n",
    "        solution[i][j] = v\n",
    "\n",
    "    return solution"
   ]
  },
  {
   "cell_type": "code",
   "execution_count": 35,
   "metadata": {},
   "outputs": [],
   "source": [
    "cost_matrix, supply, demand = create_transportation_problem(20, 20)"
   ]
  },
  {
   "cell_type": "code",
   "execution_count": 36,
   "metadata": {},
   "outputs": [
    {
     "name": "stdout",
     "output_type": "stream",
     "text": [
      "18\n",
      "14\n",
      "20\n",
      "18\n",
      "24\n",
      "22\n",
      "22\n",
      "22\n",
      "20\n",
      "22\n",
      "22\n",
      "20\n",
      "20\n",
      "18\n",
      "18\n",
      "18\n",
      "16\n",
      "18\n",
      "16\n",
      "14\n",
      "8\n",
      "8\n",
      "8\n",
      "6\n",
      "8\n",
      "6\n",
      "4\n",
      "4\n",
      "8\n",
      "12\n",
      "16\n",
      "12\n",
      "12\n",
      "12\n",
      "6\n",
      "12\n",
      "12\n",
      "14\n",
      "14\n",
      "6\n",
      "8\n",
      "8\n",
      "4\n",
      "6\n",
      "10\n",
      "8\n",
      "8\n",
      "14\n",
      "10\n",
      "12\n",
      "12\n",
      "18\n",
      "4\n"
     ]
    }
   ],
   "source": [
    "solution = transportation_simplex_method(supply, demand, cost_matrix)"
   ]
  },
  {
   "cell_type": "code",
   "execution_count": 30,
   "metadata": {},
   "outputs": [],
   "source": [
    "def get_total_cost(costs, solution):\n",
    "    total_cost = 0\n",
    "    for i, row in enumerate(costs):\n",
    "        for j, cost in enumerate(row):\n",
    "            total_cost += cost * solution[i][j]\n",
    "    return total_cost"
   ]
  },
  {
   "cell_type": "code",
   "execution_count": 31,
   "metadata": {},
   "outputs": [
    {
     "name": "stdout",
     "output_type": "stream",
     "text": [
      "Total cost: 103.0\n"
     ]
    }
   ],
   "source": [
    "print(\"Total cost:\", get_total_cost(cost_matrix, solution))"
   ]
  },
  {
   "cell_type": "code",
   "execution_count": 32,
   "metadata": {},
   "outputs": [
    {
     "name": "stdout",
     "output_type": "stream",
     "text": [
      "PuLP solution total cost: 103.0\n"
     ]
    }
   ],
   "source": [
    "import pulp\n",
    "\n",
    "def solve_with_pulp(cost_matrix, supply, demand):\n",
    "    num_sources, num_destinations = cost_matrix.shape\n",
    "    problem = pulp.LpProblem(\"Transportation_Problem\", pulp.LpMinimize)\n",
    "\n",
    "    # Create variables for flow on transportation arcs\n",
    "    x = pulp.LpVariable.dicts(\"x\", ((i, j) for i in range(num_sources) for j in range(num_destinations)),\n",
    "                              lowBound=0)\n",
    "\n",
    "    # Objective function: Minimize total transportation cost\n",
    "    problem += pulp.lpSum([cost_matrix[i][j] * x[(i, j)] for i in range(num_sources) for j in range(num_destinations)])\n",
    "\n",
    "    # Constraints for supply\n",
    "    for i in range(num_sources):\n",
    "        problem += pulp.lpSum([x[(i, j)] for j in range(num_destinations)]) == supply[i]\n",
    "\n",
    "    # Constraints for demand\n",
    "    for j in range(num_destinations):\n",
    "        problem += pulp.lpSum([x[(i, j)] for i in range(num_sources)]) == demand[j]\n",
    "\n",
    "    # Solve the problem\n",
    "    problem.solve()\n",
    "\n",
    "    # Return the objective function value and the solution (if it's found)\n",
    "    if problem.status == pulp.LpStatusOptimal:\n",
    "        solution = {(i, j): x[(i, j)].varValue for i in range(num_sources) for j in range(num_destinations)}\n",
    "        return pulp.value(problem.objective), solution\n",
    "    else:\n",
    "        return None, None\n",
    "\n",
    "# Solve using PuLP and compare with your solution\n",
    "pulp_cost, pulp_solution = solve_with_pulp(cost_matrix, supply, demand)\n",
    "\n",
    "# Check if the total costs are the same\n",
    "print(\"PuLP solution total cost:\", pulp_cost)"
   ]
  }
 ],
 "metadata": {
  "kernelspec": {
   "display_name": "Python 3",
   "language": "python",
   "name": "python3"
  },
  "language_info": {
   "codemirror_mode": {
    "name": "ipython",
    "version": 3
   },
   "file_extension": ".py",
   "mimetype": "text/x-python",
   "name": "python",
   "nbconvert_exporter": "python",
   "pygments_lexer": "ipython3",
   "version": "3.10.0"
  }
 },
 "nbformat": 4,
 "nbformat_minor": 2
}
